{
 "cells": [
  {
   "cell_type": "markdown",
   "metadata": {},
   "source": [
    "# Lab 3: Adversarial Examples Lab\n",
    "\n",
    "### Introduction\n",
    "\n",
    "In this lab, we will explore the concept of adversarial examples as introduced in the seminal paper by Goodfellow et al. (2015): \"Explaining and Harnessing Adversarial Examples.\" Adversarial examples are inputs to machine learning models that have been subtly modified to cause the model to make a mistake, while appearing nearly identical to the original input from a human perspective.\n",
    "\n",
    "### Objectives\n",
    "\n",
    "1. Understand why neural networks are vulnerable to adversarial examples\n",
    "2. Implement the Fast Gradient Sign Method (FGSM) to generate adversarial examples\n",
    "3. Visualize how small, imperceptible perturbations can lead to high-confidence misclassifications\n",
    "\n",
    "### Implementation\n",
    "\n",
    "We'll train a simple deep learning model on the MNIST handwritten digit dataset, then apply FGSM to generate adversarial examples that fool our model.\n",
    "\n",
    "### Setup Instructions\n",
    "\n",
    "This notebook requires PyTorch and related libraries. If you encounter issues installing these dependencies locally, you can run this notebook in Google Colab, which provides these libraries pre-installed."
   ]
  },
  {
   "cell_type": "code",
   "execution_count": 6,
   "metadata": {},
   "outputs": [],
   "source": [
    "import torch\n",
    "import torch.nn as nn\n",
    "import torch.optim as optim\n",
    "import torchvision\n",
    "import torchvision.transforms as transforms\n",
    "import matplotlib.pyplot as plt"
   ]
  },
  {
   "cell_type": "markdown",
   "metadata": {},
   "source": [
    "### Data Loading and Preprocessing\n",
    "\n",
    "In this section, we set up the data pipeline for our experiment:\n",
    "\n",
    "1. **Device Configuration**: We determine whether to use GPU (CUDA) or CPU for computation.\n",
    "\n",
    "2. **Data Transformation**: We apply a simple transformation to convert the MNIST images to PyTorch tensors. Unlike many image classification tasks, we don't normalize the pixel values here because MNIST pixel values are already in the range [0,1] after ToTensor()\n",
    "\n",
    "3. **Dataset Loading**: We load the MNIST dataset, which consists of 28×28 grayscale images of handwritten digits (0-9).\n",
    "   - Training set: 60,000 examples\n",
    "   - Test set: 10,000 examples\n",
    "\n",
    "4. **DataLoader Creation**: We create DataLoader objects that will feed batches of data to our model during training and evaluation.\n",
    "   - We use a batch size of 64\n",
    "   - We shuffle the training data to improve model generalization\n"
   ]
  },
  {
   "cell_type": "code",
   "execution_count": 2,
   "metadata": {},
   "outputs": [
    {
     "name": "stderr",
     "output_type": "stream",
     "text": [
      "100.0%\n",
      "100.0%\n",
      "100.0%\n",
      "100.0%\n"
     ]
    }
   ],
   "source": [
    "device = torch.device(\"cuda\" if torch.cuda.is_available() else \"cpu\")\n",
    "\n",
    "transform = transforms.Compose(\n",
    "    [\n",
    "        transforms.ToTensor(),\n",
    "    ]\n",
    ")\n",
    "\n",
    "batch_size = 64\n",
    "\n",
    "train_dataset = torchvision.datasets.MNIST(\n",
    "    root=\"./data\", train=True, transform=transform, download=True\n",
    ")\n",
    "test_dataset = torchvision.datasets.MNIST(\n",
    "    root=\"./data\", train=False, transform=transform, download=True\n",
    ")\n",
    "\n",
    "train_loader = torch.utils.data.DataLoader(\n",
    "    dataset=train_dataset, batch_size=batch_size, shuffle=True\n",
    ")\n",
    "test_loader = torch.utils.data.DataLoader(\n",
    "    dataset=test_dataset, batch_size=batch_size, shuffle=False\n",
    ")"
   ]
  },
  {
   "cell_type": "code",
   "execution_count": 3,
   "outputs": [
    {
     "data": {
      "text/plain": "device(type='cpu')"
     },
     "execution_count": 3,
     "metadata": {},
     "output_type": "execute_result"
    }
   ],
   "source": [
    "device"
   ],
   "metadata": {
    "collapsed": false
   }
  },
  {
   "cell_type": "markdown",
   "metadata": {},
   "source": [
    "### Display Data"
   ]
  },
  {
   "cell_type": "code",
   "execution_count": 4,
   "metadata": {},
   "outputs": [
    {
     "name": "stdout",
     "output_type": "stream",
     "text": [
      "Batch shape: torch.Size([64, 1, 28, 28])\n",
      "Target shape: torch.Size([64])\n"
     ]
    },
    {
     "data": {
      "text/plain": "<Figure size 800x400 with 2 Axes>",
      "image/png": "[encoded data removed]"
     },
     "metadata": {},
     "output_type": "display_data"
    }
   ],
   "source": [
    "examples = iter(train_loader)\n",
    "example_data, example_targets = next(examples)\n",
    "\n",
    "print(f\"Batch shape: {example_data.shape}\")  # Should be [batch_size, channels, height, width]\n",
    "print(f\"Target shape: {example_targets.shape}\")  # Should be [batch_size]\n",
    "\n",
    "fig, axes = plt.subplots(1, 2, figsize=(8, 4))\n",
    "axes[0].imshow(example_data[0].squeeze(), cmap='gray')\n",
    "axes[0].set_title(f'Label: {example_targets[0].item()}')\n",
    "axes[1].imshow(example_data[1].squeeze(), cmap='gray')\n",
    "axes[1].set_title(f'Label: {example_targets[1].item()}')\n",
    "plt.show()"
   ]
  },
  {
   "cell_type": "markdown",
   "metadata": {},
   "source": [
    "### Model Definition"
   ]
  },
  {
   "cell_type": "markdown",
   "metadata": {},
   "source": [
    "Define a simple neural network for MNIST digit classification. \n",
    "\n",
    "Implement a neural network architecture of your choice. For simplicity, we recommend starting with a Multi-Layer Perceptron (MLP) with the following structure:\n",
    "1. An input layer that flattens the 28x28 MNIST images\n",
    "2. A hidden layer with 64 neurons and ReLU activation\n",
    "3. An output layer with 10 neurons (one for each digit 0-9)\n",
    "\n",
    "For implementation, use PyTorch's nn.Module as the base class and implement:\n",
    "- The `__init__` method to define your network layers\n",
    "- The `forward` method to define how data flows through your network\n",
    "\n",
    "For model components, refer to:\n",
    "- [torch.nn.Linear](https://pytorch.org/docs/stable/generated/torch.nn.Linear.html)\n",
    "- [torch.nn.ReLU](https://pytorch.org/docs/stable/generated/torch.nn.ReLU.html)\n",
    "\n",
    "<details>\n",
    "  <summary>Hint 1</summary>\n",
    "  Remember to flatten the input images in the forward method. MNIST images come in shape [batch_size, 1, 28, 28] and need to be reshaped to [batch_size, 784]. Use x = x.view(x.size(0), -1) for this purpose.\n",
    "</details>\n",
    "\n",
    "<details>\n",
    "  <summary>Hint 2</summary>\n",
    "  When creating your first linear layer, the input size should be 784 (28×28×1) to match the flattened MNIST images.\n",
    "</details>"
   ]
  },
  {
   "cell_type": "code",
   "execution_count": 18,
   "metadata": {},
   "outputs": [],
   "source": [
    "import torch.nn.functional as F\n",
    "\n",
    "class Net(nn.Module):\n",
    "    def __init__(self):\n",
    "        super().__init__()\n",
    "        self.fc1 = nn.Linear(28 * 28, 64)\n",
    "        self.fc2 = nn.Linear(64, 10)\n",
    "\n",
    "\n",
    "    def forward(self, x):\n",
    "        x = x.view(x.size(0), -1)\n",
    "        x = F.relu(self.fc1(x))\n",
    "        x = self.fc2(x)\n",
    "        return x"
   ]
  },
  {
   "cell_type": "markdown",
   "metadata": {},
   "source": [
    "### Training the Neural Network\n",
    "\n",
    "Below is a basic training loop for our MNIST classifier. We use CrossEntropyLoss as our loss function, which is the standard choice for multi-class classification problems. For optimization, we employ SGD (Stochastic Gradient Descent).\n",
    "\n",
    "The training process consists of:\n",
    "1. Forward pass through the network\n",
    "2. Loss calculation\n",
    "3. Gradient computation via backpropagation\n",
    "4. Parameter updates using the optimizer"
   ]
  },
  {
   "cell_type": "code",
   "execution_count": 19,
   "metadata": {},
   "outputs": [
    {
     "name": "stdout",
     "output_type": "stream",
     "text": [
      "Epoch [1/10], Loss: 1.2588\n",
      "Epoch [2/10], Loss: 0.5058\n",
      "Epoch [3/10], Loss: 0.3979\n",
      "Epoch [4/10], Loss: 0.3556\n",
      "Epoch [5/10], Loss: 0.3306\n",
      "Epoch [6/10], Loss: 0.3123\n",
      "Epoch [7/10], Loss: 0.2973\n",
      "Epoch [8/10], Loss: 0.2847\n",
      "Epoch [9/10], Loss: 0.2729\n",
      "Epoch [10/10], Loss: 0.2626\n"
     ]
    }
   ],
   "source": [
    "model = Net().to(device)\n",
    "learning_rate = 1e-2\n",
    "\n",
    "criterion = nn.CrossEntropyLoss()\n",
    "optimizer = optim.SGD(model.parameters(), lr=learning_rate)\n",
    "\n",
    "num_epochs = 10\n",
    "\n",
    "model.train()\n",
    "for epoch in range(num_epochs):\n",
    "    running_loss = 0.0\n",
    "    for images, labels in train_loader:\n",
    "        images, labels = images.to(device), labels.to(device)\n",
    "\n",
    "        # Forward pass\n",
    "        outputs = model(images)           # Step 1: Get predictions\n",
    "        loss = criterion(outputs, labels) # Step 2: Measure error\n",
    "        # Backward pass and optimize\n",
    "        optimizer.zero_grad()             # Step 3: Clear old gradients\n",
    "        loss.backward()                   # Step 4: Compute new gradients\n",
    "        optimizer.step()                  # Step 5: Update model weights\n",
    "\n",
    "        running_loss += loss.item()\n",
    "\n",
    "    print(f\"Epoch [{epoch+1}/{num_epochs}], Loss: {running_loss/len(train_loader):.4f}\")"
   ]
  },
  {
   "cell_type": "markdown",
   "metadata": {},
   "source": [
    "### Model Evaluation\n",
    "We evaluate our model's performance by measuring accuracy on the test dataset. This is a simplified approach - in a real environment, we would typically use a separate validation dataset and employ more comprehensive evaluation metrics. However, for the purposes of this notebook, this straightforward evaluation is sufficient to demonstrate the model's baseline performance before we explore adversarial examples.\n",
    "\n",
    "We’re testing on ‘clean’ images (no tricks yet). A simple MLP should get ~90% accuracy — good, but not perfect."
   ]
  },
  {
   "cell_type": "code",
   "execution_count": 20,
   "metadata": {},
   "outputs": [
    {
     "name": "stdout",
     "output_type": "stream",
     "text": [
      "Accuracy on clean test images: 92.82% (expect ~90%)\n"
     ]
    }
   ],
   "source": [
    "model.eval()\n",
    "correct = 0\n",
    "total = 0\n",
    "with torch.no_grad():\n",
    "    for images, labels in test_loader:\n",
    "        images, labels = images.to(device), labels.to(device)\n",
    "        outputs = model(images)\n",
    "        _, predicted = torch.max(outputs.data, 1)\n",
    "        total += labels.size(0)\n",
    "        correct += (predicted == labels).sum().item()\n",
    "\n",
    "clean_acc = 100 * correct / total\n",
    "print(f\"Accuracy on clean test images: {clean_acc:.2f}% (expect ~90%)\")"
   ]
  },
  {
   "cell_type": "markdown",
   "metadata": {},
   "source": [
    "### Comparing Optimizer Performance\n",
    "\n",
    "For a challenge, try training with Adam, and Adagrad. Plot their losses. Which converges fastest?"
   ]
  },
  {
   "cell_type": "code",
   "execution_count": 22,
   "metadata": {},
   "outputs": [
    {
     "name": "stdout",
     "output_type": "stream",
     "text": [
      "Epoch [1/10], Loss: 0.2454\n",
      "Epoch [2/10], Loss: 0.1367\n",
      "Epoch [3/10], Loss: 0.1175\n",
      "Epoch [4/10], Loss: 0.1017\n",
      "Epoch [5/10], Loss: 0.0949\n",
      "Epoch [6/10], Loss: 0.0833\n",
      "Epoch [7/10], Loss: 0.0796\n",
      "Epoch [8/10], Loss: 0.0812\n",
      "Epoch [9/10], Loss: 0.0676\n",
      "Epoch [10/10], Loss: 0.0749\n"
     ]
    }
   ],
   "source": [
    "model = Net().to(device)\n",
    "learning_rate = 1e-2\n",
    "\n",
    "criterion = nn.CrossEntropyLoss()\n",
    "optimizer = optim.Adam(model.parameters(), lr=learning_rate)\n",
    "\n",
    "num_epochs = 10\n",
    "\n",
    "model.train()\n",
    "for epoch in range(num_epochs):\n",
    "    running_loss = 0.0\n",
    "    for images, labels in train_loader:\n",
    "        images, labels = images.to(device), labels.to(device)\n",
    "\n",
    "        # Forward pass\n",
    "        outputs = model(images)           # Step 1: Get predictions\n",
    "        loss = criterion(outputs, labels) # Step 2: Measure error\n",
    "        # Backward pass and optimize\n",
    "        optimizer.zero_grad()             # Step 3: Clear old gradients\n",
    "        loss.backward()                   # Step 4: Compute new gradients\n",
    "        optimizer.step()                  # Step 5: Update model weights\n",
    "\n",
    "        running_loss += loss.item()\n",
    "\n",
    "    print(f\"Epoch [{epoch+1}/{num_epochs}], Loss: {running_loss/len(train_loader):.4f}\")"
   ]
  },
  {
   "cell_type": "code",
   "execution_count": 23,
   "outputs": [
    {
     "name": "stdout",
     "output_type": "stream",
     "text": [
      "Accuracy on clean test images: 96.57% (expect ~90%)\n"
     ]
    }
   ],
   "source": [
    "model.eval()\n",
    "correct = 0\n",
    "total = 0\n",
    "with torch.no_grad():\n",
    "    for images, labels in test_loader:\n",
    "        images, labels = images.to(device), labels.to(device)\n",
    "        outputs = model(images)\n",
    "        _, predicted = torch.max(outputs.data, 1)\n",
    "        total += labels.size(0)\n",
    "        correct += (predicted == labels).sum().item()\n",
    "\n",
    "clean_acc = 100 * correct / total\n",
    "print(f\"Accuracy on clean test images: {clean_acc:.2f}% (expect ~90%)\")"
   ],
   "metadata": {
    "collapsed": false
   }
  },
  {
   "cell_type": "code",
   "execution_count": 24,
   "outputs": [
    {
     "name": "stdout",
     "output_type": "stream",
     "text": [
      "Epoch [1/10], Loss: 0.3415\n",
      "Epoch [2/10], Loss: 0.2346\n",
      "Epoch [3/10], Loss: 0.2058\n",
      "Epoch [4/10], Loss: 0.1884\n",
      "Epoch [5/10], Loss: 0.1755\n",
      "Epoch [6/10], Loss: 0.1660\n",
      "Epoch [7/10], Loss: 0.1580\n",
      "Epoch [8/10], Loss: 0.1516\n",
      "Epoch [9/10], Loss: 0.1458\n",
      "Epoch [10/10], Loss: 0.1408\n"
     ]
    }
   ],
   "source": [
    "model = Net().to(device)\n",
    "learning_rate = 1e-2\n",
    "\n",
    "criterion = nn.CrossEntropyLoss()\n",
    "optimizer = optim.Adagrad(model.parameters(), lr=learning_rate)\n",
    "\n",
    "num_epochs = 10\n",
    "\n",
    "model.train()\n",
    "for epoch in range(num_epochs):\n",
    "    running_loss = 0.0\n",
    "    for images, labels in train_loader:\n",
    "        images, labels = images.to(device), labels.to(device)\n",
    "\n",
    "        # Forward pass\n",
    "        outputs = model(images)           # Step 1: Get predictions\n",
    "        loss = criterion(outputs, labels) # Step 2: Measure error\n",
    "        # Backward pass and optimize\n",
    "        optimizer.zero_grad()             # Step 3: Clear old gradients\n",
    "        loss.backward()                   # Step 4: Compute new gradients\n",
    "        optimizer.step()                  # Step 5: Update model weights\n",
    "\n",
    "        running_loss += loss.item()\n",
    "\n",
    "    print(f\"Epoch [{epoch+1}/{num_epochs}], Loss: {running_loss/len(train_loader):.4f}\")"
   ],
   "metadata": {
    "collapsed": false
   }
  },
  {
   "cell_type": "code",
   "execution_count": 25,
   "outputs": [
    {
     "name": "stdout",
     "output_type": "stream",
     "text": [
      "Accuracy on clean test images: 95.72% (expect ~90%)\n"
     ]
    }
   ],
   "source": [
    "model.eval()\n",
    "correct = 0\n",
    "total = 0\n",
    "with torch.no_grad():\n",
    "    for images, labels in test_loader:\n",
    "        images, labels = images.to(device), labels.to(device)\n",
    "        outputs = model(images)\n",
    "        _, predicted = torch.max(outputs.data, 1)\n",
    "        total += labels.size(0)\n",
    "        correct += (predicted == labels).sum().item()\n",
    "\n",
    "clean_acc = 100 * correct / total\n",
    "print(f\"Accuracy on clean test images: {clean_acc:.2f}% (expect ~90%)\")"
   ],
   "metadata": {
    "collapsed": false
   }
  },
  {
   "cell_type": "markdown",
   "metadata": {},
   "source": [
    "### FGSM Attack\n",
    "Implement FGSM attack."
   ]
  },
  {
   "cell_type": "code",
   "execution_count": 35,
   "metadata": {},
   "outputs": [],
   "source": [
    "default_epsilon = 0.15\n",
    "\n",
    "def fgsm_attack(\n",
    "    model: nn.Module, images: torch.Tensor, labels: torch.Tensor, epsilon: float = default_epsilon\n",
    ") -> torch.Tensor:\n",
    "    \"\"\"\n",
    "    Creates adversarial examples via the FGSM method:\n",
    "    x_adv = x + epsilon * sign( dJ/dx ).\n",
    "    \"\"\"\n",
    "    images = images.clone().detach().to(device)\n",
    "    labels = labels.to(device)\n",
    "\n",
    "    # Ensure gradients are being tracked\n",
    "    images.requires_grad = True\n",
    "\n",
    "    # TODO: \n",
    "    # 1. Calculate outputs and loss\n",
    "    # 2. Backpropagate loss (use backward method)\n",
    "    # 3. Collect the element-wise sign of the data gradient (you can access it by images.grad.data.sign())\n",
    "    # 4. Create the perturbed image\n",
    "    # 5. Clamp to [0,1] if needed to ensure valid pixel range\n",
    "\n",
    "    outputs = model(images)\n",
    "    loss = criterion(outputs, labels)\n",
    "\n",
    "    optimizer.zero_grad()\n",
    "    loss.backward()\n",
    "    optimizer.step()\n",
    "\n",
    "    ews = images.grad.data.sign()\n",
    "\n",
    "    perturbed_images = images + epsilon * ews\n",
    "\n",
    "    return perturbed_images"
   ]
  },
  {
   "cell_type": "markdown",
   "metadata": {},
   "source": [
    "### Calculate accuracy for adversarial examples"
   ]
  },
  {
   "cell_type": "code",
   "execution_count": 38,
   "metadata": {},
   "outputs": [
    {
     "name": "stdout",
     "output_type": "stream",
     "text": [
      "Accuracy on adversarial test images (FGSM, eps=0.15): 0.02%\n"
     ]
    }
   ],
   "source": [
    "correct = 0\n",
    "total = 0\n",
    "for images, labels in test_loader:\n",
    "    # Generate adversarial images\n",
    "    adv_images = fgsm_attack(model, images, labels, default_epsilon)\n",
    "\n",
    "    # Re-classify\n",
    "    outputs = model(adv_images.to(device))\n",
    "    _, predicted = torch.max(outputs.data, 1)\n",
    "\n",
    "    total += labels.size(0)\n",
    "    correct += (predicted.cpu() == labels).sum().item()\n",
    "\n",
    "adv_acc = 100 * correct / total\n",
    "print(f\"Accuracy on adversarial test images (FGSM, eps={default_epsilon}): {adv_acc:.2f}%\")"
   ]
  },
  {
   "cell_type": "markdown",
   "metadata": {},
   "source": [
    "### Display adversarial examples\n",
    "\n",
    "Let's compare original and adversarial images side-by-side."
   ]
  },
  {
   "cell_type": "code",
   "execution_count": null,
   "metadata": {},
   "outputs": [],
   "source": [
    "examples = iter(test_loader)\n",
    "example_images, example_labels = next(examples)\n",
    "example_images = example_images[:5]\n",
    "example_labels = example_labels[:5]\n",
    "\n",
    "adv_ex = fgsm_attack(model, example_images, example_labels, default_epsilon)\n",
    "\n",
    "for i in range(5):\n",
    "    plt.figure()\n",
    "\n",
    "    plt.subplot(1, 2, 1)\n",
    "    plt.title(f\"Original - Label: {example_labels[i].item()}\")\n",
    "    plt.imshow(example_images[i][0].cpu(), cmap=\"gray\")\n",
    "    plt.axis(\"off\")\n",
    "\n",
    "    adv_label_out = model(adv_ex[i].unsqueeze(0))\n",
    "    _, adv_pred = torch.max(adv_label_out, 1)\n",
    "    plt.subplot(1, 2, 2)\n",
    "    plt.title(f\"Adversarial - Pred: {adv_pred.item()}\")\n",
    "    plt.imshow(adv_ex[i][0].detach().cpu(), cmap=\"gray\")\n",
    "    plt.axis(\"off\")\n",
    "\n",
    "    plt.show()"
   ]
  },
  {
   "cell_type": "markdown",
   "metadata": {},
   "source": [
    "### Epsilon Parameter Analysis\n",
    " In this section, you'll analyze how the epsilon parameter affects the effectiveness of adversarial examples. The epsilon parameter controls the magnitude of the perturbation applied to the original images.\n",
    "\n",
    "**Task:**\n",
    "1. Evaluate the model's accuracy on adversarial examples generated with different epsilon values (try at least 5 different values)\n",
    "2. Create a line plot showing model accuracy (y-axis) vs. epsilon value (x-axis)\n",
    "3. Discuss the trade-off between:\n",
    "- Visual perceptibility of the perturbations (higher epsilon = more visible changes)\n",
    "- Attack success rate (higher epsilon = more successful attacks = lower model accuracy)"
   ]
  }
 ],
 "metadata": {
  "kernelspec": {
   "display_name": "Python 3",
   "language": "python",
   "name": "python3"
  },
  "language_info": {
   "codemirror_mode": {
    "name": "ipython",
    "version": 3
   },
   "file_extension": ".py",
   "mimetype": "text/x-python",
   "name": "python",
   "nbconvert_exporter": "python",
   "pygments_lexer": "ipython3",
   "version": "3.10.7"
  }
 },
 "nbformat": 4,
 "nbformat_minor": 2
}
