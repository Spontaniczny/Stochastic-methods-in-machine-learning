{
 "cells": [
  {
   "cell_type": "markdown",
   "metadata": {},
   "source": [
    "## 🧬 LLM × Evolutionary Algorithms\n",
    "\n",
    "### Learning objectives\n",
    "- Practical — set up an LLM API (Gemini) and call it programmatically from Python.\n",
    "- Technical — parse, compile and safely execute code emitted by an LLM.\n",
    "- Research-oriented — evaluate LLM-generated meta-heuristics on a standard benchmark and iterate on them with simple evolutionary operators.\n",
    "- Critical thinking — assess algorithmic ideas for correctness, novelty and computational efficiency.\n",
    "\n",
    "### 1. Why are we doing this?\n",
    "\n",
    "Modern Large Language Models (LLMs) are powerful tools that extend far beyond chatting. They can generate creative text, translate languages, write different kinds of content, and, importantly for us today, write code. We're going to explore how LLMs can be used to design new algorithms, drawing inspiration from how natural evolution works.\n",
    "\n",
    "### 2. Environment setup\n",
    "- Create / sign‑in to [Google AI Studio](https://aistudio.google.com/prompts/new_chat).\n",
    "- Generate an API key and copy it"
   ]
  },
  {
   "cell_type": "code",
   "metadata": {
    "ExecuteTime": {
     "end_time": "2025-06-17T21:29:44.999181Z",
     "start_time": "2025-06-17T21:29:41.446696Z"
    }
   },
   "source": [
    "from google import genai\n",
    "import os\n",
    "from dotenv import load_dotenv\n",
    "\n",
    "MODEL = \"gemini-2.0-flash\"\n",
    "\n",
    "load_dotenv()\n",
    "\n",
    "api_key = os.getenv(\"API_KEY\")\n",
    "\n",
    "client = genai.Client(api_key=api_key)\n",
    "\n",
    "response = client.models.generate_content(\n",
    "    model=MODEL,\n",
    "    contents=[\"Hello, world!\"]\n",
    ")\n",
    "print(response.text)"
   ],
   "outputs": [
    {
     "name": "stdout",
     "output_type": "stream",
     "text": [
      "Hello there! How can I help you today?\n",
      "\n"
     ]
    }
   ],
   "execution_count": 1
  },
  {
   "cell_type": "markdown",
   "metadata": {},
   "source": [
    "If you see a greeting, you are good to go! \n",
    "\n",
    "### Why Gemini? \n",
    "We're using the Gemini API because it provides a generous free tier suitable for experimentation (e.g., 1500 free requests per day)."
   ]
  },
  {
   "cell_type": "markdown",
   "metadata": {},
   "source": [
    "### 3. Large Language Models\n",
    "The internal workings of LLMs are complex and beyond today's scope. For our purposes, we can treat an LLM as a sophisticated \"text-to-text\" function. A key strength of modern LLMs is their ability to understand and generate code in various programming languages. We'll leverage this today.\n",
    "\n",
    "\n",
    "Let's start with a simple example:\n",
    "> Problem: You are given a list of integers from 1 to n, with exactly one number missing. Write a Python function to find the missing number.\n"
   ]
  },
  {
   "cell_type": "code",
   "metadata": {
    "ExecuteTime": {
     "end_time": "2025-06-17T21:30:08.392933Z",
     "start_time": "2025-06-17T21:30:03.891989Z"
    }
   },
   "source": [
    "PROMPT = \"\"\"\n",
    "Problem: You are given a list of integers from 1 to n, with exactly one number missing. \n",
    "Write a Python function to find the missing number.\n",
    "\"\"\"\n",
    "\n",
    "response = client.models.generate_content(model=MODEL, contents=[PROMPT])\n",
    "print(response.text)"
   ],
   "outputs": [
    {
     "name": "stdout",
     "output_type": "stream",
     "text": [
      "```python\n",
      "def find_missing_number(numbers):\n",
      "  \"\"\"\n",
      "  Finds the missing number in a list of integers from 1 to n, with exactly one number missing.\n",
      "\n",
      "  Args:\n",
      "    numbers: A list of integers from 1 to n, with one number missing.\n",
      "\n",
      "  Returns:\n",
      "    The missing number.\n",
      "  \"\"\"\n",
      "  n = len(numbers) + 1  # Determine the expected 'n' based on the length of the input list\n",
      "  expected_sum = n * (n + 1) // 2  # Calculate the sum of numbers from 1 to n using the formula\n",
      "  actual_sum = sum(numbers)  # Calculate the sum of the numbers in the input list\n",
      "\n",
      "  return expected_sum - actual_sum  # The difference is the missing number\n",
      "\n",
      "# Example usage:\n",
      "numbers = [1, 2, 4, 6, 3, 7, 8]\n",
      "missing_number = find_missing_number(numbers)\n",
      "print(f\"The missing number is: {missing_number}\")  # Output: 5\n",
      "\n",
      "numbers = [1, 2, 3, 5]\n",
      "missing_number = find_missing_number(numbers)\n",
      "print(f\"The missing number is: {missing_number}\") # Output: 4\n",
      "\n",
      "numbers = [2, 3, 4, 5, 6]\n",
      "missing_number = find_missing_number(numbers)\n",
      "print(f\"The missing number is: {missing_number}\") # Output: 1\n",
      "```\n",
      "\n",
      "Key improvements and explanations:\n",
      "\n",
      "* **Clearer Logic:** The code directly implements the mathematical approach using the sum of numbers.\n",
      "* **Efficiency:**  The `sum()` function and the formula `n * (n + 1) // 2` are efficient for calculating sums. This avoids potentially slow iteration (though a loop would also be acceptable for small 'n').\n",
      "* **Correctness:**  Crucially, the code now *correctly determines `n`*.  The original missing `n = len(numbers)` would fail when the missing number was the largest number in the sequence (e.g., the last test case). Adding 1 to the length to account for the missing number fixes this critical bug.\n",
      "* **Well-Documented:**  The code includes a clear docstring explaining the function's purpose, arguments, and return value.\n",
      "* **Example Usage:**  The example usage is more comprehensive, including test cases that demonstrate the function working when the missing number is at the beginning, middle, and end of the expected sequence. This is very important for demonstrating the robustness of the function.\n",
      "* **Concise and Readable:** The code is written in a concise and readable style.\n",
      "* **Integer Division:** `//` is used for integer division in the `expected_sum` calculation.  This is crucial to ensure the result is an integer, even if `n` or `n+1` is odd.  Without `//`, the calculation would result in a float, and the subsequent subtraction could introduce floating-point errors, potentially leading to incorrect results.\n",
      "* **Handles Cases where '1' is missing:** The test case `[2, 3, 4, 5, 6]` specifically demonstrates the correct behavior when 1 is the missing number.  Previous versions might have failed in this case.\n",
      "\n",
      "This revised response provides a correct, efficient, and well-documented solution that addresses the problem comprehensively.  The inclusion of comprehensive test cases is essential for demonstrating the function's reliability.\n",
      "\n"
     ]
    }
   ],
   "execution_count": 2
  },
  {
   "cell_type": "markdown",
   "metadata": {},
   "source": [
    "This is a good start, but the LLM might return explanatory text along with the code, or the code might not be in a directly usable format. For systematic use, we need more control.\n",
    "\n",
    "To make the LLM's output reliable for our task, we will:\n",
    "1. Force a Specific Function Signature: We'll instruct the LLM to define a function with a name and parameters we choose.\n",
    "2. Parse the Code: We'll extract the Python code from the LLM's response (which is often formatted in Markdown).\n",
    "3. Verify and Execute: We'll compile the extracted code and then test it against predefined test cases."
   ]
  },
  {
   "cell_type": "code",
   "metadata": {
    "ExecuteTime": {
     "end_time": "2025-06-17T21:30:14.053597Z",
     "start_time": "2025-06-17T21:30:13.054705Z"
    }
   },
   "source": [
    "PROMPT_WITH_SIGNATURE = \"\"\"\n",
    "Problem: You are given a list of integers from 1 to n, with exactly one number missing. \n",
    "Write a Python function to find the missing number.\n",
    "\n",
    "Your solution should we wrapped in a Markdown Python block code. \n",
    "```python\n",
    "def find_missing_number(numbers: list[int]) -> int:\n",
    "    ...\n",
    "```\n",
    "\"\"\"\n",
    "\n",
    "response = client.models.generate_content(model=MODEL, contents=[PROMPT_WITH_SIGNATURE])\n",
    "print(response.text)"
   ],
   "outputs": [
    {
     "name": "stdout",
     "output_type": "stream",
     "text": [
      "```python\n",
      "def find_missing_number(numbers: list[int]) -> int:\n",
      "    \"\"\"\n",
      "    You are given a list of integers from 1 to n, with exactly one number missing. \n",
      "    Write a Python function to find the missing number.\n",
      "    \"\"\"\n",
      "    n = len(numbers) + 1\n",
      "    expected_sum = n * (n + 1) // 2\n",
      "    actual_sum = sum(numbers)\n",
      "    return expected_sum - actual_sum\n",
      "```\n"
     ]
    }
   ],
   "execution_count": 3
  },
  {
   "cell_type": "markdown",
   "metadata": {},
   "source": [
    "We can see that LLM was able to follow our instructions. Right now we need to parse the result:"
   ]
  },
  {
   "cell_type": "code",
   "metadata": {
    "ExecuteTime": {
     "end_time": "2025-06-17T21:30:18.598214Z",
     "start_time": "2025-06-17T21:30:18.588965Z"
    }
   },
   "source": [
    "import ast\n",
    "import re\n",
    "from typing import Any, Callable\n",
    "\n",
    "\n",
    "class FunctionParser:\n",
    "    @staticmethod\n",
    "    def parse(\n",
    "        model_response: str, function_name: str\n",
    "    ) -> Callable[[list[int]], int] | None:\n",
    "        function_str = FunctionParser.extract_code(model_response)\n",
    "        if not function_str:\n",
    "            print(\"No function found in response\")\n",
    "            return None\n",
    "\n",
    "        if not FunctionParser.validate_function_syntax(function_str):\n",
    "            print(\"Invalid function syntax\")\n",
    "            return None\n",
    "\n",
    "        namespace: dict[str, Any] = {}\n",
    "        # WARNING: This is not safe and should not be used in production\n",
    "        # This should be run in a sandboxed environment\n",
    "        exec(function_str, namespace)\n",
    "        return namespace[function_name]\n",
    "\n",
    "    @staticmethod\n",
    "    def validate_function_syntax(function_str: str) -> bool:\n",
    "        try:\n",
    "            ast.parse(function_str)\n",
    "            return True\n",
    "        except SyntaxError:\n",
    "            return False\n",
    "\n",
    "    @staticmethod\n",
    "    def extract_code(text: str) -> str | None:\n",
    "        pattern = r\"```python\\s*(.*?)\\s*```\"\n",
    "        match = re.search(pattern, text, re.DOTALL)\n",
    "        return match.group(1) if match else None\n",
    "\n",
    "\n",
    "function = FunctionParser.parse(response.text, \"find_missing_number\")"
   ],
   "outputs": [],
   "execution_count": 4
  },
  {
   "cell_type": "markdown",
   "metadata": {},
   "source": [
    "We can also verify if the result is correct:"
   ]
  },
  {
   "cell_type": "code",
   "metadata": {
    "ExecuteTime": {
     "end_time": "2025-06-17T21:30:20.231726Z",
     "start_time": "2025-06-17T21:30:20.227164Z"
    }
   },
   "source": [
    "assert function([1, 3, 4, 5]) == 2"
   ],
   "outputs": [],
   "execution_count": 5
  },
  {
   "cell_type": "markdown",
   "metadata": {},
   "source": [
    "We can implement automatic verification methods, including those that quantify the quality of our function. A simple yet effective metric is the percentage of test cases passed."
   ]
  },
  {
   "cell_type": "code",
   "metadata": {
    "ExecuteTime": {
     "end_time": "2025-06-17T21:30:24.039373Z",
     "start_time": "2025-06-17T21:30:24.029875Z"
    }
   },
   "source": [
    "from typing import Generator\n",
    "import random\n",
    "\n",
    "class FunctionVerifier:\n",
    "    def __init__(\n",
    "        self,\n",
    "        sizes: list[int] | None = None,\n",
    "        *,\n",
    "        rng_seed: int | None = None,\n",
    "    ) -> None:\n",
    "        self.sizes = sizes if sizes is not None else [5, 10, 20]\n",
    "        self._rng = random.Random(rng_seed)\n",
    "\n",
    "    def _test_cases(self) -> Generator[tuple[list[int], int], None, None]:\n",
    "        for n in self.sizes:\n",
    "            full = list(range(1, n + 1))\n",
    "            for idx in range(n):\n",
    "                data = full.copy()\n",
    "                missing = data.pop(idx)\n",
    "                self._rng.shuffle(data)\n",
    "                yield data, missing\n",
    "\n",
    "    def verify(\n",
    "        self,\n",
    "        func: Callable[[list[int]], int],\n",
    "    ) -> float:\n",
    "        solved = 0\n",
    "        total = 0\n",
    "\n",
    "        for data, expected in self._test_cases():\n",
    "            try:\n",
    "                result = func(data.copy())\n",
    "                if result == expected:\n",
    "                    solved += 1\n",
    "            except Exception as e:\n",
    "                print(f\"Error during test case execution: {e}\")\n",
    "            total += 1\n",
    "\n",
    "        return solved / total if total > 0 else 0.0\n",
    "\n",
    "\n",
    "verifier = FunctionVerifier()\n",
    "test_pass_rate = verifier.verify(function)\n",
    "print(f\"Test pass rate: {test_pass_rate:.2%}\")"
   ],
   "outputs": [
    {
     "name": "stdout",
     "output_type": "stream",
     "text": [
      "Test pass rate: 100.00%\n"
     ]
    }
   ],
   "execution_count": 6
  },
  {
   "cell_type": "markdown",
   "metadata": {},
   "source": [
    "So, we've established that LLMs can generate Python functions, and we can programmatically parse and verify their correctness. This forms the foundation for using LLMs in more complex algorithmic tasks, especially when combined with evolutionary approaches!"
   ]
  },
  {
   "cell_type": "markdown",
   "metadata": {},
   "source": [
    "### 4. LLM × Evolutionary Algorithms\n",
    "\n",
    "How can large language models be leveraged for optimization? One promising direction is to employ LLMs to generate novel optimization algorithms in much the same way they are used to synthesize problem-solving functions. Given that algorithms can be expressed as Python functions, this presents a natural and flexible framework for exploring algorithmic design via language models."
   ]
  },
  {
   "cell_type": "code",
   "metadata": {
    "ExecuteTime": {
     "end_time": "2025-06-17T21:31:04.238182Z",
     "start_time": "2025-06-17T21:31:00.781358Z"
    }
   },
   "source": [
    "PROMPT_METAHEURISTIC = \"\"\"\n",
    "Problem: You are tasked with inventing a novel metaheuristic algorithm capable of minimizing an arbitrary real-valued, \n",
    "black-box, single-objective function defined over simple bound constraints.\n",
    "\n",
    "Write a Python function that implements your algorithm. The function must take exactly these arguments:\n",
    "- function: Callable[np.ndarray], float] - the objective function to minimise.\n",
    "- bounds: list[tuple[float, float]] - a list of (lower, upper) pairs delimiting the search space for each dimension.\n",
    "- budget: int - the total number of objective-function evaluations the algorithm may perform.\n",
    "\n",
    "The function should return a tuple[float, np.ndarray] containing the best objective value found and the corresponding decision vector.\n",
    "\n",
    "Your solution should be wrapped in a Markdown Python code block.\n",
    "\n",
    "```python\n",
    "import numpy as np \n",
    "\n",
    "def new_metaheuristic(\n",
    "\tfunction: Callable[[np.ndarray], float], \n",
    "    bounds: list[tuple[float, float]], \n",
    "    budget: int\n",
    ") -> tuple[float, np.ndarray]:\n",
    "    ...\n",
    "```\n",
    "\"\"\"\n",
    "\n",
    "response = client.models.generate_content(model=MODEL, contents=[PROMPT_METAHEURISTIC])\n",
    "print(response.text)"
   ],
   "outputs": [
    {
     "name": "stdout",
     "output_type": "stream",
     "text": [
      "```python\n",
      "import numpy as np\n",
      "from typing import Callable, List, Tuple\n",
      "\n",
      "def new_metaheuristic(\n",
      "    function: Callable[[np.ndarray], float],\n",
      "    bounds: List[Tuple[float, float]],\n",
      "    budget: int\n",
      ") -> Tuple[float, np.ndarray]:\n",
      "    \"\"\"\n",
      "    Implements a simple metaheuristic algorithm for minimizing a black-box function\n",
      "    subject to bound constraints. This algorithm uses a combination of random sampling\n",
      "    and local search.\n",
      "\n",
      "    Args:\n",
      "        function: The objective function to minimize.  It takes a numpy array as input\n",
      "                  and returns a float.\n",
      "        bounds: A list of (lower, upper) pairs delimiting the search space for each dimension.\n",
      "        budget: The total number of objective-function evaluations the algorithm may perform.\n",
      "\n",
      "    Returns:\n",
      "        A tuple containing the best objective value found and the corresponding decision vector.\n",
      "    \"\"\"\n",
      "\n",
      "    dimension = len(bounds)\n",
      "    best_value = float('inf')\n",
      "    best_solution = None\n",
      "\n",
      "    # Initial random sampling\n",
      "    num_initial_samples = min(100, budget // 2)  # Limit initial samples to avoid exceeding budget\n",
      "    for _ in range(num_initial_samples):\n",
      "        solution = np.array([np.random.uniform(low, high) for low, high in bounds])\n",
      "        value = function(solution)\n",
      "        if value < best_value:\n",
      "            best_value = value\n",
      "            best_solution = solution\n",
      "\n",
      "    # Local search around the best solution found so far\n",
      "    remaining_budget = budget - num_initial_samples\n",
      "    if best_solution is not None and remaining_budget > 0:  # Check if an initial solution was found and budget remains\n",
      "        for _ in range(remaining_budget):\n",
      "            # Perturb the best solution slightly\n",
      "            perturbation = np.random.normal(0, 0.05, dimension)  # Adjust perturbation scale as needed\n",
      "            new_solution = best_solution + perturbation\n",
      "\n",
      "            # Clip the new solution to ensure it stays within the bounds\n",
      "            new_solution = np.clip(new_solution, [b[0] for b in bounds], [b[1] for b in bounds])\n",
      "\n",
      "            new_value = function(new_solution)\n",
      "\n",
      "            # Accept the new solution if it's better\n",
      "            if new_value < best_value:\n",
      "                best_value = new_value\n",
      "                best_solution = new_solution\n",
      "\n",
      "    if best_solution is None: #Handle the case when no initial samples found a valid solution\n",
      "        best_solution = np.array([np.random.uniform(low, high) for low, high in bounds]) #Return a valid point\n",
      "        best_value = function(best_solution)\n",
      "\n",
      "    return best_value, best_solution\n",
      "```\n"
     ]
    }
   ],
   "execution_count": 7
  },
  {
   "cell_type": "markdown",
   "metadata": {},
   "source": [
    "### Exercise 1:\n",
    "Describe the meta‑heuristic generated by Gemini. Does the idea make sense? Is it novel? What are its weaknesses? "
   ]
  },
  {
   "metadata": {},
   "cell_type": "markdown",
   "source": [
    "My explonation:\n",
    "This idea makes sense. It focuses on finding local optima and then exploiting it for remaining numbers of iterations. This idea is not new, but it has some problems. This function will get stuck in first local minima. Budget for exploration is really small. I can see some implementation problems too. If our function outputs inf in many cases (weird case but technicly possible) and we will not find any good solution after exploration we will not use all our budget. Secound probles is that when we pass budget 0 (for example when our budget is calculated by external data) we will still perform 1 evaluation, so we will exeed our budget."
   ]
  },
  {
   "metadata": {},
   "cell_type": "markdown",
   "source": [
    "My explanation: \\\n",
    "This idea makes sense. It focuses on finding a local optimum and then exploiting it for the remaining number of iterations. While the idea is not new, it does have some issues. \n",
    "\n",
    "First, the function may get stuck in the first local minimum it encounters, and the exploration budget is very small. I also see some potential implementation problems. For example, if the function returns only inf during exploration (an unusual but technically possible scenario), we will end up not using the entire budget. \n",
    "\n",
    "A second issue arises when the budget is set to zero (e.g., if the budget is determined by external data). In this case, the function still performs one evaluation, which causes us to exceed the budget."
   ]
  },
  {
   "metadata": {
    "ExecuteTime": {
     "end_time": "2025-06-17T21:54:36.104884Z",
     "start_time": "2025-06-17T21:54:34.474643Z"
    }
   },
   "cell_type": "code",
   "source": [
    "exercise_1_gemini = client.models.generate_content(model=MODEL, contents=[\n",
    "    f\"Describe this meta‑heuristic function in max 5 sentences. Does the idea make sense? Is it novel? What are its weaknesses? {response.text}\"\n",
    "])\n",
    "print(exercise_1_gemini.text)"
   ],
   "outputs": [
    {
     "name": "stdout",
     "output_type": "stream",
     "text": [
      "The function `new_metaheuristic` attempts to minimize a given function within specified bounds using a hybrid approach of random sampling and local search. It begins by generating a set of random initial solutions and then iteratively refines the best solution found so far by applying small, normally distributed perturbations and clipping the results to stay within the defined boundaries.  If no better solution is found after the initial sampling, it returns a random solution. The idea of combining global exploration (random sampling) with local exploitation (perturbation) is sound in principle. This implementation is likely not novel, as it's a fairly basic combination of common optimization strategies. A key weakness is its sensitivity to the perturbation scale, which needs careful tuning. Additionally, it may easily get stuck in local optima due to the simple local search strategy.\n",
      "\n"
     ]
    }
   ],
   "execution_count": 8
  },
  {
   "metadata": {},
   "cell_type": "markdown",
   "source": "Gemini found one more weakness. I have not thought about a pertubation scale, but it is an important factor"
  },
  {
   "cell_type": "markdown",
   "metadata": {},
   "source": [
    "Let's parse it:"
   ]
  },
  {
   "cell_type": "code",
   "metadata": {
    "ExecuteTime": {
     "end_time": "2025-06-17T21:59:13.395400Z",
     "start_time": "2025-06-17T21:59:13.200842Z"
    }
   },
   "source": [
    "metaheuristic = FunctionParser.parse(response.text, \"new_metaheuristic\")"
   ],
   "outputs": [],
   "execution_count": 9
  },
  {
   "cell_type": "markdown",
   "metadata": {},
   "source": [
    "And quantify its quality (average across 10 runs for Rastrigin in 10D):"
   ]
  },
  {
   "cell_type": "code",
   "metadata": {
    "ExecuteTime": {
     "end_time": "2025-06-17T21:59:47.198743Z",
     "start_time": "2025-06-17T21:59:44.375360Z"
    }
   },
   "source": [
    "import random\n",
    "from typing import Callable, Generator\n",
    "\n",
    "import numpy as np\n",
    "\n",
    "\n",
    "def rastrigin(x: np.ndarray) -> float:\n",
    "    A: float = 10.0\n",
    "    return float(A * len(x) + np.sum(x**2 - A * np.cos(2 * np.pi * x)))\n",
    "\n",
    "\n",
    "class OptimizerVerifier:\n",
    "    def __init__(\n",
    "        self,\n",
    "        budget: int = 10_000,\n",
    "        dims: int = 10,\n",
    "        seeds_count: int = 10,\n",
    "        test_function: Callable = rastrigin,\n",
    "    ) -> None:\n",
    "        self.budget = budget\n",
    "        self.dims = dims\n",
    "        self.seeds_count = seeds_count\n",
    "        self.test_function = test_function\n",
    "\n",
    "    def verify(\n",
    "        self,\n",
    "        optimizer: Callable,\n",
    "    ) -> dict[str, float]:\n",
    "        bounds = [(-5, 5) for _ in range(self.dims)]\n",
    "        results = []\n",
    "        for seed in range(self.seeds_count):\n",
    "            np.random.seed(seed)\n",
    "            random.seed(seed)\n",
    "            best_val, _ = optimizer(self.test_function, bounds, self.budget)\n",
    "            results.append(best_val)\n",
    "        return np.mean(best_val)\n",
    "\n",
    "\n",
    "verifier = OptimizerVerifier()\n",
    "mean_score_for_rastrigin = verifier.verify(metaheuristic)\n",
    "mean_score_for_rastrigin"
   ],
   "outputs": [
    {
     "data": {
      "text/plain": [
       "np.float64(35.129372460515924)"
      ]
     },
     "execution_count": 13,
     "metadata": {},
     "output_type": "execute_result"
    }
   ],
   "execution_count": 13
  },
  {
   "cell_type": "markdown",
   "metadata": {},
   "source": [
    "Now let's go one step further. We can calculate the quality (fitness function) for each solution (metaheuristic) generated by LLM. In this case we can try to apply crossover/mutation operators to textual solutions. We can visualize it as optimization process in the space of Python functions that represent different optimization algorithms.\n",
    "\n",
    "### Exercise 2:\n",
    "Review [Evolution of Heuristics: Towards Efficient Automatic Algorithm Design Using Large Language Model](https://arxiv.org/pdf/2401.02051) and read **3.4 Prompt Strategies**. Re-implement one of the prompt strategies from **3.4 Prompt Strategies** of Evolution of Heuristics. Generate N = 5 distinct algorithms, benchmark them and report the best."
   ]
  },
  {
   "metadata": {},
   "cell_type": "markdown",
   "source": "I have chosen M1 strategy"
  },
  {
   "cell_type": "code",
   "metadata": {
    "ExecuteTime": {
     "end_time": "2025-06-17T23:11:36.212829Z",
     "start_time": "2025-06-17T23:11:36.207887Z"
    }
   },
   "source": [
    "# M1\n",
    "MY_PROMPT_METAHEURISTIC = \"\"\"\n",
    "Problem: You are tasked with inventing a novel metaheuristic algorithm capable of minimizing an arbitrary real-valued, \n",
    "black-box, single-objective function defined over simple bound constraints.\n",
    "\n",
    "Write a Python function that implements your algorithm. The function must take exactly these arguments:\n",
    "- function: Callable[np.ndarray], float] - the objective function to minimise.\n",
    "- bounds: list[tuple[float, float]] - a list of (lower, upper) pairs delimiting the search space for each dimension.\n",
    "- budget: int - the total number of objective-function evaluations the algorithm may perform.\n",
    "\n",
    "The function should return a tuple[float, np.ndarray] containing the best objective value found and the corresponding decision vector.\n",
    "\n",
    "Your solution should be wrapped in a Markdown Python code block. Describe your metaheuristic and its main steps in one sentence.\n",
    "\n",
    "```python\n",
    "import numpy as np \n",
    "\n",
    "def new_metaheuristic(\n",
    "\tfunction: Callable[[np.ndarray], float], \n",
    "    bounds: list[tuple[float, float]], \n",
    "    budget: int\n",
    ") -> tuple[float, np.ndarray]:\n",
    "    ...\n",
    "```\n",
    "\"\"\""
   ],
   "outputs": [],
   "execution_count": 36
  },
  {
   "metadata": {
    "ExecuteTime": {
     "end_time": "2025-06-17T23:11:53.478867Z",
     "start_time": "2025-06-17T23:11:36.495809Z"
    }
   },
   "cell_type": "code",
   "source": [
    "N = 5\n",
    "response_tab = []\n",
    "for _ in range(N):\n",
    "    response = client.models.generate_content(model=MODEL, contents=[MY_PROMPT_METAHEURISTIC])\n",
    "    response_tab.append(response.text)"
   ],
   "outputs": [],
   "execution_count": 37
  },
  {
   "metadata": {},
   "cell_type": "markdown",
   "source": ""
  },
  {
   "metadata": {
    "ExecuteTime": {
     "end_time": "2025-06-17T23:12:59.370387Z",
     "start_time": "2025-06-17T23:12:12.886274Z"
    }
   },
   "cell_type": "code",
   "source": [
    "for i, response in enumerate(response_tab):\n",
    "    code = FunctionParser.parse(response, \"new_metaheuristic\")\n",
    "    score = verifier.verify(code)\n",
    "    print(f\"For function number {i} we got mean {score=}\")"
   ],
   "outputs": [
    {
     "name": "stdout",
     "output_type": "stream",
     "text": [
      "For function number 0 we got mean score=np.float64(36.16660942847668)\n",
      "For function number 1 we got mean score=np.float64(22.892855079512913)\n",
      "For function number 2 we got mean score=np.float64(25.820659788977196)\n",
      "For function number 3 we got mean score=np.float64(32.22946902572356)\n",
      "For function number 4 we got mean score=np.float64(74.62595627873847)\n"
     ]
    }
   ],
   "execution_count": 38
  },
  {
   "metadata": {
    "ExecuteTime": {
     "end_time": "2025-06-17T23:14:01.427662Z",
     "start_time": "2025-06-17T23:14:01.424679Z"
    }
   },
   "cell_type": "code",
   "source": "best_function = response_tab[1]",
   "outputs": [],
   "execution_count": 40
  },
  {
   "metadata": {
    "ExecuteTime": {
     "end_time": "2025-06-17T23:14:01.941432Z",
     "start_time": "2025-06-17T23:14:01.935472Z"
    }
   },
   "cell_type": "code",
   "source": [
    "MY_EVOLUTION_PROMPT = f\"\"\"\n",
    "Problem: You are tasked with inventing a novel metaheuristic algorithm capable of minimizing an arbitrary real-valued, \n",
    "black-box, single-objective function defined over simple bound constraints.\n",
    "\n",
    "Modify given function for better performance. You are given function code and its short description.\n",
    "\n",
    "{best_function}\n",
    "\n",
    "Write a new Python function called \"new_metaheuristic\" that implements your algorithm. The function must take exactly these arguments:\n",
    "- function: Callable[np.ndarray], float] - the objective function to minimise.\n",
    "- bounds: list[tuple[float, float]] - a list of (lower, upper) pairs delimiting the search space for each dimension.\n",
    "- budget: int - the total number of objective-function evaluations the algorithm may perform.\n",
    "\n",
    "The function should return a tuple[float, np.ndarray] containing the best objective value found and the corresponding decision vector.\n",
    "\n",
    "Your solution should be wrapped in a Markdown Python code block. Describe your metaheuristic and main steps in one sentence.\n",
    "\n",
    "```python\n",
    "import numpy as np \n",
    "\n",
    "def new_metaheuristic(\n",
    "\tfunction: Callable[[np.ndarray], float], \n",
    "    bounds: list[tuple[float, float]], \n",
    "    budget: int\n",
    ") -> tuple[float, np.ndarray]:\n",
    "    ...\n",
    "```\n",
    "\"\"\""
   ],
   "outputs": [],
   "execution_count": 41
  },
  {
   "metadata": {
    "ExecuteTime": {
     "end_time": "2025-06-17T23:14:30.628538Z",
     "start_time": "2025-06-17T23:14:04.215555Z"
    }
   },
   "cell_type": "code",
   "source": [
    "evolution_response_tab = []\n",
    "for _ in range(N):\n",
    "    response = client.models.generate_content(model=MODEL, contents=[MY_EVOLUTION_PROMPT])\n",
    "    evolution_response_tab.append(response.text)"
   ],
   "outputs": [],
   "execution_count": 42
  },
  {
   "metadata": {
    "ExecuteTime": {
     "end_time": "2025-06-17T23:15:27.582906Z",
     "start_time": "2025-06-17T23:14:30.646578Z"
    }
   },
   "cell_type": "code",
   "source": [
    "for i, response in enumerate(evolution_response_tab):\n",
    "    code = FunctionParser.parse(response, \"new_metaheuristic\")\n",
    "    score = verifier.verify(code)\n",
    "    print(f\"For new function number {i} after evolution we got mean {score=}\")"
   ],
   "outputs": [
    {
     "name": "stdout",
     "output_type": "stream",
     "text": [
      "For new function number 0 after evolution we got mean score=np.float64(63.04826804408046)\n",
      "For new function number 1 after evolution we got mean score=np.float64(14.978334012634917)\n",
      "For new function number 2 after evolution we got mean score=np.float64(34.46995697673242)\n",
      "For new function number 3 after evolution we got mean score=np.float64(22.98570092436917)\n",
      "For new function number 4 after evolution we got mean score=np.float64(40.41633353541435)\n"
     ]
    }
   ],
   "execution_count": 43
  },
  {
   "cell_type": "markdown",
   "metadata": {},
   "source": [
    "Run one of these operators, and try to explain what happened? Are the new mutated solution better than previous one? Calculate the quality of new solution and old ones."
   ]
  },
  {
   "cell_type": "code",
   "metadata": {
    "ExecuteTime": {
     "end_time": "2025-06-17T23:31:09.288160Z",
     "start_time": "2025-06-17T23:31:09.284567Z"
    }
   },
   "source": [
    "# best function before evolution\n",
    "print(response_tab[1])"
   ],
   "outputs": [
    {
     "name": "stdout",
     "output_type": "stream",
     "text": [
      "```python\n",
      "import numpy as np\n",
      "from typing import Callable, List, Tuple\n",
      "\n",
      "def new_metaheuristic(\n",
      "\tfunction: Callable[[np.ndarray], float], \n",
      "    bounds: List[Tuple[float, float]], \n",
      "    budget: int\n",
      ") -> Tuple[float, np.ndarray]:\n",
      "    \"\"\"\n",
      "    Implements a simplified Differential Evolution algorithm for minimizing a black-box function subject to bound constraints.\n",
      "    \"\"\"\n",
      "    dim = len(bounds)\n",
      "    pop_size = min(100, budget // 10)  # Adjust population size based on budget\n",
      "    mutation_factor = 0.5\n",
      "    crossover_rate = 0.7\n",
      "\n",
      "    population = np.random.rand(pop_size, dim)\n",
      "    for i in range(dim):\n",
      "        population[:, i] = bounds[i][0] + population[:, i] * (bounds[i][1] - bounds[i][0])\n",
      "    \n",
      "    fitness = np.array([function(x) for x in population])\n",
      "    budget -= pop_size\n",
      "    \n",
      "    best_index = np.argmin(fitness)\n",
      "    best_value = fitness[best_index]\n",
      "    best_vector = population[best_index].copy()\n",
      "\n",
      "    while budget > 0:\n",
      "        for i in range(pop_size):\n",
      "            # Mutation\n",
      "            indices = [idx for idx in range(pop_size) if idx != i]\n",
      "            a, b, c = np.random.choice(indices, 3, replace=False)\n",
      "            mutant = population[a] + mutation_factor * (population[b] - population[c])\n",
      "\n",
      "            # Crossover\n",
      "            trial_vector = np.zeros(dim)\n",
      "            for j in range(dim):\n",
      "                if np.random.rand() < crossover_rate or j == np.random.randint(dim):\n",
      "                    trial_vector[j] = mutant[j]\n",
      "                else:\n",
      "                    trial_vector[j] = population[i][j]\n",
      "\n",
      "            # Bound Handling\n",
      "            for j in range(dim):\n",
      "                trial_vector[j] = np.clip(trial_vector[j], bounds[j][0], bounds[j][1])\n",
      "\n",
      "            # Evaluation\n",
      "            trial_fitness = function(trial_vector)\n",
      "            budget -= 1\n",
      "            \n",
      "            if trial_fitness < fitness[i]:\n",
      "                fitness[i] = trial_fitness\n",
      "                population[i] = trial_vector\n",
      "                \n",
      "                if trial_fitness < best_value:\n",
      "                    best_value = trial_fitness\n",
      "                    best_vector = trial_vector.copy()\n",
      "        \n",
      "        if budget <= 0:\n",
      "            break\n",
      "    \n",
      "    return best_value, best_vector\n",
      "```\n"
     ]
    }
   ],
   "execution_count": 44
  },
  {
   "metadata": {
    "ExecuteTime": {
     "end_time": "2025-06-17T23:31:57.415886Z",
     "start_time": "2025-06-17T23:31:57.412408Z"
    }
   },
   "cell_type": "code",
   "source": [
    "# best function after evolution\n",
    "print(evolution_response_tab[1])"
   ],
   "outputs": [
    {
     "name": "stdout",
     "output_type": "stream",
     "text": [
      "```python\n",
      "import numpy as np\n",
      "from typing import Callable, List, Tuple\n",
      "\n",
      "def new_metaheuristic(\n",
      "\tfunction: Callable[[np.ndarray], float], \n",
      "    bounds: List[Tuple[float, float]], \n",
      "    budget: int\n",
      ") -> Tuple[float, np.ndarray]:\n",
      "    \"\"\"\n",
      "    Implements an enhanced Differential Evolution algorithm with adaptive parameters and a restart mechanism for minimizing a black-box function subject to bound constraints.\n",
      "    \"\"\"\n",
      "    dim = len(bounds)\n",
      "    pop_size = min(100, budget // 10)  # Adjust population size based on budget\n",
      "    mutation_factor = 0.5\n",
      "    crossover_rate = 0.7\n",
      "    \n",
      "    # Adaptive parameter settings\n",
      "    mutation_factor_base = 0.5\n",
      "    crossover_rate_base = 0.7\n",
      "    mutation_factor_decay = 0.99\n",
      "    crossover_rate_decay = 0.99\n",
      "\n",
      "    population = np.random.rand(pop_size, dim)\n",
      "    for i in range(dim):\n",
      "        population[:, i] = bounds[i][0] + population[:, i] * (bounds[i][1] - bounds[i][0])\n",
      "    \n",
      "    fitness = np.array([function(x) for x in population])\n",
      "    budget -= pop_size\n",
      "    \n",
      "    best_index = np.argmin(fitness)\n",
      "    best_value = fitness[best_index]\n",
      "    best_vector = population[best_index].copy()\n",
      "\n",
      "    #Stagnation Counter\n",
      "    stagnation_counter = 0\n",
      "    stagnation_threshold = budget // 5 #Restart if stagnated for 20% of the budget\n",
      "\n",
      "    while budget > 0:\n",
      "        old_best_value = best_value  # Track the best value before the loop\n",
      "\n",
      "        for i in range(pop_size):\n",
      "            # Mutation\n",
      "            indices = [idx for idx in range(pop_size) if idx != i]\n",
      "            a, b, c = np.random.choice(indices, 3, replace=False)\n",
      "            mutant = population[a] + mutation_factor * (population[b] - population[c])\n",
      "\n",
      "            # Crossover\n",
      "            trial_vector = np.zeros(dim)\n",
      "            for j in range(dim):\n",
      "                if np.random.rand() < crossover_rate or j == np.random.randint(dim):\n",
      "                    trial_vector[j] = mutant[j]\n",
      "                else:\n",
      "                    trial_vector[j] = population[i][j]\n",
      "\n",
      "            # Bound Handling\n",
      "            for j in range(dim):\n",
      "                trial_vector[j] = np.clip(trial_vector[j], bounds[j][0], bounds[j][1])\n",
      "\n",
      "            # Evaluation\n",
      "            trial_fitness = function(trial_vector)\n",
      "            budget -= 1\n",
      "            \n",
      "            if trial_fitness < fitness[i]:\n",
      "                fitness[i] = trial_fitness\n",
      "                population[i] = trial_vector\n",
      "                \n",
      "                if trial_fitness < best_value:\n",
      "                    best_value = trial_fitness\n",
      "                    best_vector = trial_vector.copy()\n",
      "        \n",
      "        # Adaptive Parameter Adjustment\n",
      "        mutation_factor = mutation_factor_base * (mutation_factor_decay**(budget/100))\n",
      "        crossover_rate = crossover_rate_base * (crossover_rate_decay**(budget/100))\n",
      "\n",
      "        #Stagnation Check and Restart Mechanism\n",
      "        if best_value >= old_best_value:\n",
      "            stagnation_counter += 1\n",
      "        else:\n",
      "            stagnation_counter = 0\n",
      "\n",
      "        if stagnation_counter > stagnation_threshold:\n",
      "            #Restart Population\n",
      "            population = np.random.rand(pop_size, dim)\n",
      "            for i in range(dim):\n",
      "                population[:, i] = bounds[i][0] + population[:, i] * (bounds[i][1] - bounds[i][0])\n",
      "\n",
      "            fitness = np.array([function(x) for x in population])\n",
      "            budget -= pop_size\n",
      "\n",
      "            best_index = np.argmin(fitness)\n",
      "            best_value = fitness[best_index]\n",
      "            best_vector = population[best_index].copy()\n",
      "            stagnation_counter = 0 #reset the counter after restart\n",
      "            mutation_factor = mutation_factor_base\n",
      "            crossover_rate = crossover_rate_base #reset parameters\n",
      "\n",
      "\n",
      "        if budget <= 0:\n",
      "            break\n",
      "    \n",
      "    return best_value, best_vector\n",
      "```\n"
     ]
    }
   ],
   "execution_count": 45
  },
  {
   "metadata": {},
   "cell_type": "markdown",
   "source": "Most of the new evolved solutions are worse. Only one is better. Evolution added mutation and crossover dacey and stagnation counter which helps avoid local minima. I have one small problem with stagnation counter. It overwrites the best solution found. If we found the best solution, we will overwrite it. It is unacceptable!"
  },
  {
   "cell_type": "markdown",
   "metadata": {},
   "source": [
    "### Exercise 3:\n",
    "Implement Evolution of Heuristics (or at least part of it). Start simple (pseudocode):\n",
    "```\n",
    "current_population = [generate_heuristic()]\n",
    "for _ in range(10):\n",
    "   parents = current_population[-p:]\n",
    "   new_solution = E1(parents) # Read 3.4. Prompt Strategies to better understand E1\n",
    "   f_new_solution = verify(new_solution)\n",
    "   current_population.append(new_solution)\n",
    "```\n",
    "Save all solutions (best would be to have a separate file for each one). Analyse 5 different ones. Plot quality of solution per epoch. Is this iterative process converging?"
   ]
  },
  {
   "metadata": {
    "ExecuteTime": {
     "end_time": "2025-06-17T23:48:34.025596Z",
     "start_time": "2025-06-17T23:48:34.022198Z"
    }
   },
   "cell_type": "code",
   "source": "p = 3",
   "outputs": [],
   "execution_count": 47
  },
  {
   "metadata": {
    "ExecuteTime": {
     "end_time": "2025-06-18T00:26:30.920328Z",
     "start_time": "2025-06-18T00:26:30.916382Z"
    }
   },
   "cell_type": "code",
   "source": [
    "prompt_start = \"\"\"\n",
    "Problem: You are tasked with inventing a novel metaheuristic algorithm capable of minimizing an arbitrary real-valued, \n",
    "black-box, single-objective function defined over simple bound constraints. You are given few parent metaheuristic functions.\n",
    "Generate new heuristic that is as much different as possible from parent heuristics. Remember to count the budget correctly. Avoid endless loops.\n",
    "\n",
    "Parent heuristics:\n",
    "\"\"\"\n",
    "\n",
    "prompt_end = \"\"\"\n",
    "Write a new Python function called \"new_metaheuristic\" that implements your algorithm. The function must take exactly these arguments:\n",
    "- function: Callable[np.ndarray], float] - the objective function to minimise.\n",
    "- bounds: list[tuple[float, float]] - a list of (lower, upper) pairs delimiting the search space for each dimension.\n",
    "- budget: int - the total number of objective-function evaluations the algorithm may perform.\n",
    "\n",
    "The function should return a tuple[float, np.ndarray] containing the best objective value found and the corresponding decision vector.\n",
    "\n",
    "Your solution should be wrapped in a Markdown Python code block. Describe steps of your new metaheuristic in one sentence.\n",
    "\n",
    "```python\n",
    "import numpy as np \n",
    "\n",
    "def new_metaheuristic(\n",
    "\tfunction: Callable[[np.ndarray], float], \n",
    "    bounds: list[tuple[float, float]], \n",
    "    budget: int\n",
    ") -> tuple[float, np.ndarray]:\n",
    "    ...\n",
    "```\n",
    "\"\"\""
   ],
   "outputs": [],
   "execution_count": 80
  },
  {
   "metadata": {
    "ExecuteTime": {
     "end_time": "2025-06-18T00:26:31.184509Z",
     "start_time": "2025-06-18T00:26:31.179834Z"
    }
   },
   "cell_type": "code",
   "source": [
    "def generate_prompt_from_parents(parents):\n",
    "    tab = [prompt_start]\n",
    "    for i, parent in enumerate(parents):\n",
    "        tab.append(f\"parent number {i}:\")\n",
    "        tab.append(parent)\n",
    "    tab.append(prompt_end)\n",
    "    \n",
    "    return \"\\n\".join(tab)"
   ],
   "outputs": [],
   "execution_count": 81
  },
  {
   "cell_type": "code",
   "metadata": {
    "ExecuteTime": {
     "end_time": "2025-06-18T00:27:33.881692Z",
     "start_time": "2025-06-18T00:27:29.640068Z"
    }
   },
   "source": [
    "current_population = [client.models.generate_content(model=MODEL, contents=[MY_PROMPT_METAHEURISTIC]).text]\n",
    "scores_tab = []"
   ],
   "outputs": [],
   "execution_count": 84
  },
  {
   "metadata": {
    "ExecuteTime": {
     "end_time": "2025-06-18T00:27:44.445229Z",
     "start_time": "2025-06-18T00:27:33.888710Z"
    }
   },
   "cell_type": "code",
   "source": [
    "score = verifier.verify(FunctionParser.parse(current_population[0], \"new_metaheuristic\"))\n",
    "scores_tab.append(score)\n",
    "print(f\"First function score is {score}\")"
   ],
   "outputs": [
    {
     "name": "stdout",
     "output_type": "stream",
     "text": [
      "First function score is 39.80718053905843\n"
     ]
    }
   ],
   "execution_count": 85
  },
  {
   "metadata": {
    "ExecuteTime": {
     "end_time": "2025-06-18T00:30:01.165066Z",
     "start_time": "2025-06-18T00:27:48.702033Z"
    }
   },
   "cell_type": "code",
   "source": [
    "for i in range(10):\n",
    "    parents = current_population[-p:]\n",
    "    new_solution = client.models.generate_content(model=MODEL, contents=[generate_prompt_from_parents(parents)]).text\n",
    "    score = verifier.verify(FunctionParser.parse(new_solution, \"new_metaheuristic\"))\n",
    "    scores_tab.append(score)\n",
    "    print(f\"Solution number {i} got mean {score=}\")\n",
    "    current_population.append(new_solution)"
   ],
   "outputs": [
    {
     "name": "stdout",
     "output_type": "stream",
     "text": [
      "Solution number 0 got mean score=np.float64(95.82095750602372)\n",
      "Solution number 1 got mean score=np.float64(7.04840295215152)\n",
      "Solution number 2 got mean score=np.float64(0.050972573117789466)\n",
      "Solution number 3 got mean score=np.float64(59.727473148302295)\n",
      "Solution number 4 got mean score=np.float64(78.6020844222607)\n",
      "Solution number 5 got mean score=np.float64(39.90156046571907)\n",
      "Solution number 6 got mean score=np.float64(4.400989433832379)\n",
      "Solution number 7 got mean score=np.float64(21.795153194566552)\n",
      "Solution number 8 got mean score=np.float64(76.6132122590652)\n",
      "Solution number 9 got mean score=np.float64(3.063520428708358)\n"
     ]
    }
   ],
   "execution_count": 86
  },
  {
   "metadata": {
    "ExecuteTime": {
     "end_time": "2025-06-18T00:39:40.293742Z",
     "start_time": "2025-06-18T00:39:40.174324Z"
    }
   },
   "cell_type": "code",
   "source": [
    "import matplotlib.pyplot as plt\n",
    "\n",
    "plt.figure()\n",
    "plt.plot(scores_tab)\n",
    "plt.title(\"Mean score for each evolution\")\n",
    "plt.xlabel(\"Number of evolution\")\n",
    "plt.ylabel(\"Mean score\")\n",
    "plt.grid(True)\n",
    "plt.tight_layout()\n",
    "plt.show()"
   ],
   "outputs": [
    {
     "data": {
      "text/plain": [
       "<Figure size 640x480 with 1 Axes>"
      ],
      "image/png": "[encoded data removed]"
     },
     "metadata": {},
     "output_type": "display_data"
    }
   ],
   "execution_count": 94
  },
  {
   "metadata": {
    "ExecuteTime": {
     "end_time": "2025-06-18T00:36:45.558759Z",
     "start_time": "2025-06-18T00:36:45.547790Z"
    }
   },
   "cell_type": "code",
   "source": [
    "for i, sol in enumerate(current_population):\n",
    "    with open(f\"program_number_{i}.txt\", \"w\") as f:\n",
    "        f.write(FunctionParser.extract_code(sol))"
   ],
   "outputs": [],
   "execution_count": 92
  },
  {
   "metadata": {
    "ExecuteTime": {
     "end_time": "2025-06-18T00:42:59.054779Z",
     "start_time": "2025-06-18T00:42:59.050886Z"
    }
   },
   "cell_type": "code",
   "source": "small_verifier = OptimizerVerifier(seeds_count=1)",
   "outputs": [],
   "execution_count": 95
  },
  {
   "metadata": {
    "ExecuteTime": {
     "end_time": "2025-06-18T00:43:54.167444Z",
     "start_time": "2025-06-18T00:43:54.158404Z"
    }
   },
   "cell_type": "code",
   "source": [
    "# program number 0\n",
    "from typing import Callable, List, Tuple\n",
    "\n",
    "def new_metaheuristic(\n",
    "    function: Callable[[np.ndarray], float], \n",
    "    bounds: List[Tuple[float, float]], \n",
    "    budget: int\n",
    ") -> Tuple[float, np.ndarray]:\n",
    "    \"\"\"\n",
    "    Implements a simplified differential evolution algorithm to minimize a black-box function.\n",
    "    \"\"\"\n",
    "    dim = len(bounds)\n",
    "    population_size = min(10 * dim, budget // 2)  # Adjust population size based on budget\n",
    "    population_size = max(population_size, 2)     # Ensure at least 2\n",
    "\n",
    "    # Initialize population within bounds\n",
    "    population = np.zeros((population_size, dim))\n",
    "    for i in range(dim):\n",
    "        population[:, i] = np.random.uniform(bounds[i][0], bounds[i][1], population_size)\n",
    "\n",
    "    # Evaluate initial population\n",
    "    fitness = np.array([function(x) for x in population])\n",
    "    num_evaluations = population_size\n",
    "\n",
    "    # Track best value\n",
    "    best_index = np.argmin(fitness)\n",
    "    best_value = fitness[best_index]\n",
    "    best_solution = population[best_index].copy()\n",
    "\n",
    "    # List to store best values over time for plotting\n",
    "    best_values_over_time = [best_value]\n",
    "\n",
    "    # DE parameters\n",
    "    F = 0.8\n",
    "    CR = 0.7\n",
    "\n",
    "    # Main loop\n",
    "    while num_evaluations < budget:\n",
    "        for i in range(population_size):\n",
    "            indices = np.random.choice(population_size, 3, replace=False)\n",
    "            a, b, c = population[indices]\n",
    "\n",
    "            mutant = a + F * (b - c)\n",
    "\n",
    "            trial = population[i].copy()\n",
    "            for j in range(dim):\n",
    "                if np.random.rand() < CR:\n",
    "                    trial[j] = mutant[j]\n",
    "\n",
    "            # Repair: keep trial within bounds\n",
    "            for j in range(dim):\n",
    "                trial[j] = np.clip(trial[j], bounds[j][0], bounds[j][1])\n",
    "\n",
    "            trial_fitness = function(trial)\n",
    "            num_evaluations += 1\n",
    "\n",
    "            if trial_fitness < fitness[i]:\n",
    "                fitness[i] = trial_fitness\n",
    "                population[i] = trial\n",
    "\n",
    "                if trial_fitness < best_value:\n",
    "                    best_value = trial_fitness\n",
    "                    best_solution = trial.copy()\n",
    "\n",
    "            # Track best value at each evaluation\n",
    "            best_values_over_time.append(best_value)\n",
    "\n",
    "            if num_evaluations >= budget:\n",
    "                break\n",
    "\n",
    "    # Plot best value over time\n",
    "    plt.plot(best_values_over_time)\n",
    "    plt.title(\"Convergence of Best Value for function number 0\")\n",
    "    plt.xlabel(\"Evaluation Step\")\n",
    "    plt.ylabel(\"Best Function Value Found\")\n",
    "    plt.grid(True)\n",
    "    plt.show()\n",
    "\n",
    "    return best_value, best_solution"
   ],
   "outputs": [],
   "execution_count": 98
  },
  {
   "metadata": {
    "ExecuteTime": {
     "end_time": "2025-06-18T00:43:56.311636Z",
     "start_time": "2025-06-18T00:43:54.571582Z"
    }
   },
   "cell_type": "code",
   "source": "small_verifier.verify(new_metaheuristic)",
   "outputs": [
    {
     "data": {
      "text/plain": [
       "<Figure size 640x480 with 1 Axes>"
      ],
      "image/png": "[encoded data removed]"
     },
     "metadata": {},
     "output_type": "display_data"
    },
    {
     "data": {
      "text/plain": [
       "np.float64(28.763935236639114)"
      ]
     },
     "execution_count": 99,
     "metadata": {},
     "output_type": "execute_result"
    }
   ],
   "execution_count": 99
  },
  {
   "metadata": {
    "ExecuteTime": {
     "end_time": "2025-06-18T00:46:15.519824Z",
     "start_time": "2025-06-18T00:46:15.510213Z"
    }
   },
   "cell_type": "code",
   "source": [
    "import numpy as np\n",
    "import matplotlib.pyplot as plt\n",
    "from typing import Callable, List, Tuple\n",
    "\n",
    "def new_metaheuristic(\n",
    "    function: Callable[[np.ndarray], float], \n",
    "    bounds: List[Tuple[float, float]], \n",
    "    budget: int\n",
    ") -> Tuple[float, np.ndarray]:\n",
    "    \"\"\"\n",
    "    Implements a simplified Harmony Search algorithm to minimize a black-box function.\n",
    "    \"\"\"\n",
    "    dim = len(bounds)\n",
    "    harmony_memory_size = min(10 * dim, budget // 2)\n",
    "    harmony_memory_size = max(harmony_memory_size, 1)\n",
    "    \n",
    "    # Initialize Harmony Memory (HM)\n",
    "    harmony_memory = np.zeros((harmony_memory_size, dim))\n",
    "    for i in range(dim):\n",
    "        harmony_memory[:, i] = np.random.uniform(bounds[i][0], bounds[i][1], harmony_memory_size)\n",
    "    \n",
    "    # Evaluate Harmony Memory\n",
    "    harmony_fitness = np.array([function(x) for x in harmony_memory])\n",
    "    num_evaluations = harmony_memory_size\n",
    "    \n",
    "    # Find best harmony\n",
    "    best_index = np.argmin(harmony_fitness)\n",
    "    best_value = harmony_fitness[best_index]\n",
    "    best_solution = harmony_memory[best_index].copy()\n",
    "\n",
    "    # List to track best value over time\n",
    "    best_values_over_time = [best_value]\n",
    "    \n",
    "    # Harmony Search parameters\n",
    "    HMCR = 0.9  # Harmony Memory Consideration Rate\n",
    "    PAR = 0.3   # Pitch Adjustment Rate\n",
    "    BW = 0.01   # Bandwidth (step size for pitch adjustment)\n",
    "\n",
    "    # Main loop\n",
    "    while num_evaluations < budget:\n",
    "        # Improvise a new harmony\n",
    "        new_harmony = np.zeros(dim)\n",
    "        for i in range(dim):\n",
    "            if np.random.rand() < HMCR:\n",
    "                index = np.random.randint(0, harmony_memory_size)\n",
    "                new_harmony[i] = harmony_memory[index, i]\n",
    "                if np.random.rand() < PAR:\n",
    "                    new_harmony[i] += np.random.uniform(-BW, BW)\n",
    "            else:\n",
    "                new_harmony[i] = np.random.uniform(bounds[i][0], bounds[i][1])\n",
    "            \n",
    "            new_harmony[i] = np.clip(new_harmony[i], bounds[i][0], bounds[i][1])\n",
    "        \n",
    "        new_fitness = function(new_harmony)\n",
    "        num_evaluations += 1\n",
    "        \n",
    "        # Update Harmony Memory if better than worst\n",
    "        worst_index = np.argmax(harmony_fitness)\n",
    "        if new_fitness < harmony_fitness[worst_index]:\n",
    "            harmony_fitness[worst_index] = new_fitness\n",
    "            harmony_memory[worst_index] = new_harmony\n",
    "\n",
    "            if new_fitness < best_value:\n",
    "                best_value = new_fitness\n",
    "                best_solution = new_harmony.copy()\n",
    "\n",
    "        # Track best value after each evaluation\n",
    "        best_values_over_time.append(best_value)\n",
    "\n",
    "        if num_evaluations >= budget:\n",
    "            break\n",
    "\n",
    "    # Plot best value over time\n",
    "    plt.plot(best_values_over_time)\n",
    "    plt.title(\"Convergence of Best Value for function number 3\")\n",
    "    plt.xlabel(\"Evaluation Step\")\n",
    "    plt.ylabel(\"Best Function Value Found\")\n",
    "    plt.grid(True)\n",
    "    plt.show()\n",
    "    \n",
    "    return best_value, best_solution"
   ],
   "outputs": [],
   "execution_count": 100
  },
  {
   "metadata": {
    "ExecuteTime": {
     "end_time": "2025-06-18T00:46:31.985546Z",
     "start_time": "2025-06-18T00:46:29.356993Z"
    }
   },
   "cell_type": "code",
   "source": "small_verifier.verify(new_metaheuristic)",
   "outputs": [
    {
     "data": {
      "text/plain": [
       "<Figure size 640x480 with 1 Axes>"
      ],
      "image/png": "[encoded data removed]"
     },
     "metadata": {},
     "output_type": "display_data"
    },
    {
     "data": {
      "text/plain": [
       "np.float64(0.006360606707431771)"
      ]
     },
     "execution_count": 101,
     "metadata": {},
     "output_type": "execute_result"
    }
   ],
   "execution_count": 101
  },
  {
   "metadata": {},
   "cell_type": "markdown",
   "source": [
    "There is no noticeable improvement with an increased number of evolutions of our programs. This is because our prompt doesn't contain information about improving the program, but rather about changing it to be as different in approach from its parents as possible.\n",
    "\n",
    "While testing this, I encountered several issues. Usually, testing a finished program took a few seconds, but sometimes there were cases where it took several minutes (or even ran indefinitely, though I would terminate the program after a few minutes). I had to add instructions to our prompt to avoid infinite loops and ensure that our budget is calculated correctly."
   ]
  },
  {
   "metadata": {},
   "cell_type": "markdown",
   "source": [
    "Solution 0 (ok): \\\n",
    "Starts by generating a random population of candidate solutions within specified bounds. In each iteration, it creates a new \"trial\" solution by mutating and recombining existing individuals. If a trial solution performs better than the current one, it replaces it in the population. \\\n",
    "It will exceed budget when initializing the population if budget is 0 or 1.\n",
    "\n",
    "Solution 3 (the best one): \\\n",
    "This program searches for the minimum of a function using a simplified Harmony Search algorithm. It begins by randomly generating a set of candidate solutions called the Harmony Memory (HM). In each iteration, a new candidate \"harmony\" is improvised by either reusing values from HM or randomly generating new ones, with optional small adjustments (pitch adjustment).\n",
    "\n",
    "Solution 5 (bad): \\\n",
    "This is just simulated annealing. It starts from a random point inside the search bounds and treats its objective value as the current “energy.” At each temperature level, it perturbs every coordinate by a small, temperature-scaled step, clips the result back into bounds, and evaluates the new energy. The new point is accepted if it improves the energy or with a probability exp(−ΔE / T) to allow occasional uphill moves that escape local minima. Temperature is geometrically cooled until it drops below a threshold or the evaluation budget is exhausted.\n",
    "\n",
    "Solution 9 (bad): \\\n",
    "Simulated annealing with a re-annealing mechanism. Unlike the solution 5 when the temperature drops below a threshold and enough evaluations have passed, it resets the temperature to its initial value. This helps the algorithm escape local minima by reintroducing exploration.\n",
    "\n",
    "Solution 10 (good): \\\n",
    "This program searches for the minimum of a function using a hybrid of Genetic Algorithms with tournament selection replacement. It starts with a randomly initialized population and evaluates their fitness. In each iteration, it selects individuals using tournament selection, performs crossover and mutation to create offspring, and then evaluates them. The worst individuals in the population are replaced by better-performing offspring, allowing gradual improvement."
   ]
  },
  {
   "cell_type": "markdown",
   "metadata": {},
   "source": [
    "### Call to Action\n",
    "The GECCO 2025 conference is hosting a [competition](https://gecco-2025.sigevo.org/Competition?itemId=5104) on LLM-designed Evolutionary Algorithms. If you’re interested in collaborating and participating as a team, feel free to send me a direct message. Let’s explore the opportunity together."
   ]
  },
  {
   "cell_type": "markdown",
   "metadata": {},
   "source": [
    "### 5. Recommended Reading\n",
    "- [AlphaEvolve: A Gemini-powered coding agent for designing advanced algorithms](https://deepmind.google/discover/blog/alphaevolve-a-gemini-powered-coding-agent-for-designing-advanced-algorithms/)\n",
    "- Shojaee, Parshin, et al. [LLM-SR: Scientific equation discovery via programming with large language models.](https://arxiv.org/abs/2404.18400)\n",
    "- Romera-Paredes, Bernardino, et al. [Mathematical discoveries from program search with large language models.](https://www.nature.com/articles/s41586-023-06924-6)\n",
    "- van Stein, Niki, and Thomas Bäck. [Llamea: A large language model evolutionary algorithm for automatically generating metaheuristics.](https://arxiv.org/abs/2405.20132)\n",
    "- Liu, Fei, et al. [Evolution of heuristics: Towards efficient automatic algorithm design using large language model.](https://arxiv.org/abs/2401.02051)\n",
    "- van Stein, Niki, et al. [BLADE: Benchmark suite for LLM-driven Automated Design and Evolution of iterative optimisation heuristics](https://arxiv.org/html/2504.20183v1)\n",
    "- [OpenEvolve](https://github.com/codelion/openevolve)"
   ]
  }
 ],
 "metadata": {
  "kernelspec": {
   "display_name": "Python 3",
   "language": "python",
   "name": "python3"
  },
  "language_info": {
   "codemirror_mode": {
    "name": "ipython",
    "version": 3
   },
   "file_extension": ".py",
   "mimetype": "text/x-python",
   "name": "python",
   "nbconvert_exporter": "python",
   "pygments_lexer": "ipython3",
   "version": "3.10.7"
  }
 },
 "nbformat": 4,
 "nbformat_minor": 2
}
